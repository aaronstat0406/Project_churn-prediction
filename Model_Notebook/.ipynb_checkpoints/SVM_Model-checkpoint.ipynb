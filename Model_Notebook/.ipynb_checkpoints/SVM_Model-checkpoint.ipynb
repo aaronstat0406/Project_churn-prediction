{
 "cells": [
  {
   "cell_type": "code",
   "execution_count": 1,
   "id": "a20f7aa6",
   "metadata": {},
   "outputs": [],
   "source": [
    "import sys\n",
    "import os\n",
    "\n",
    "import pandas as pd\n",
    "import numpy as np\n",
    "import matplotlib.pyplot as plt\n",
    "import seaborn as sns\n",
    "\n",
    "from collections import Counter\n",
    "from sklearn.model_selection import train_test_split\n",
    "from sklearn.model_selection import cross_val_score\n",
    "from sklearn.metrics import confusion_matrix, classification_report\n",
    "from sklearn.model_selection import GridSearchCV\n",
    "\n",
    "from sklearn.preprocessing import MinMaxScaler, OneHotEncoder, LabelEncoder\n",
    "from sklearn.compose import ColumnTransformer, make_column_transformer\n",
    "from sklearn.pipeline import make_pipeline\n",
    "from imblearn.pipeline import make_pipeline as imbl_pipe\n",
    "from imblearn.over_sampling import SMOTE\n",
    "\n",
    "from sklearn.svm import SVC "
   ]
  },
  {
   "cell_type": "code",
   "execution_count": 2,
   "id": "86186f84",
   "metadata": {},
   "outputs": [
    {
     "data": {
      "text/html": [
       "<div>\n",
       "<style scoped>\n",
       "    .dataframe tbody tr th:only-of-type {\n",
       "        vertical-align: middle;\n",
       "    }\n",
       "\n",
       "    .dataframe tbody tr th {\n",
       "        vertical-align: top;\n",
       "    }\n",
       "\n",
       "    .dataframe thead th {\n",
       "        text-align: right;\n",
       "    }\n",
       "</style>\n",
       "<table border=\"1\" class=\"dataframe\">\n",
       "  <thead>\n",
       "    <tr style=\"text-align: right;\">\n",
       "      <th></th>\n",
       "      <th>CreditScore</th>\n",
       "      <th>Geography</th>\n",
       "      <th>Gender</th>\n",
       "      <th>Age</th>\n",
       "      <th>Tenure</th>\n",
       "      <th>Balance</th>\n",
       "      <th>NumOfProducts</th>\n",
       "      <th>HasCrCard</th>\n",
       "      <th>IsActiveMember</th>\n",
       "      <th>EstimatedSalary</th>\n",
       "      <th>Exited</th>\n",
       "    </tr>\n",
       "  </thead>\n",
       "  <tbody>\n",
       "    <tr>\n",
       "      <th>0</th>\n",
       "      <td>619</td>\n",
       "      <td>France</td>\n",
       "      <td>Female</td>\n",
       "      <td>42</td>\n",
       "      <td>2</td>\n",
       "      <td>0.00</td>\n",
       "      <td>1</td>\n",
       "      <td>1</td>\n",
       "      <td>1</td>\n",
       "      <td>101348.88</td>\n",
       "      <td>1</td>\n",
       "    </tr>\n",
       "    <tr>\n",
       "      <th>1</th>\n",
       "      <td>608</td>\n",
       "      <td>Spain</td>\n",
       "      <td>Female</td>\n",
       "      <td>41</td>\n",
       "      <td>1</td>\n",
       "      <td>83807.86</td>\n",
       "      <td>1</td>\n",
       "      <td>0</td>\n",
       "      <td>1</td>\n",
       "      <td>112542.58</td>\n",
       "      <td>0</td>\n",
       "    </tr>\n",
       "    <tr>\n",
       "      <th>2</th>\n",
       "      <td>502</td>\n",
       "      <td>France</td>\n",
       "      <td>Female</td>\n",
       "      <td>42</td>\n",
       "      <td>8</td>\n",
       "      <td>159660.80</td>\n",
       "      <td>3</td>\n",
       "      <td>1</td>\n",
       "      <td>0</td>\n",
       "      <td>113931.57</td>\n",
       "      <td>1</td>\n",
       "    </tr>\n",
       "    <tr>\n",
       "      <th>3</th>\n",
       "      <td>699</td>\n",
       "      <td>France</td>\n",
       "      <td>Female</td>\n",
       "      <td>39</td>\n",
       "      <td>1</td>\n",
       "      <td>0.00</td>\n",
       "      <td>2</td>\n",
       "      <td>0</td>\n",
       "      <td>0</td>\n",
       "      <td>93826.63</td>\n",
       "      <td>0</td>\n",
       "    </tr>\n",
       "    <tr>\n",
       "      <th>4</th>\n",
       "      <td>850</td>\n",
       "      <td>Spain</td>\n",
       "      <td>Female</td>\n",
       "      <td>43</td>\n",
       "      <td>2</td>\n",
       "      <td>125510.82</td>\n",
       "      <td>1</td>\n",
       "      <td>1</td>\n",
       "      <td>1</td>\n",
       "      <td>79084.10</td>\n",
       "      <td>0</td>\n",
       "    </tr>\n",
       "  </tbody>\n",
       "</table>\n",
       "</div>"
      ],
      "text/plain": [
       "   CreditScore Geography  Gender  Age  Tenure    Balance  NumOfProducts  \\\n",
       "0          619    France  Female   42       2       0.00              1   \n",
       "1          608     Spain  Female   41       1   83807.86              1   \n",
       "2          502    France  Female   42       8  159660.80              3   \n",
       "3          699    France  Female   39       1       0.00              2   \n",
       "4          850     Spain  Female   43       2  125510.82              1   \n",
       "\n",
       "   HasCrCard  IsActiveMember  EstimatedSalary  Exited  \n",
       "0          1               1        101348.88       1  \n",
       "1          0               1        112542.58       0  \n",
       "2          1               0        113931.57       1  \n",
       "3          0               0         93826.63       0  \n",
       "4          1               1         79084.10       0  "
      ]
     },
     "execution_count": 2,
     "metadata": {},
     "output_type": "execute_result"
    }
   ],
   "source": [
    "df = pd.read_csv('../Churn_Modelling.csv')\n",
    "df =df.drop(columns=['RowNumber','CustomerId','Surname'])\n",
    "df.head()"
   ]
  },
  {
   "cell_type": "code",
   "execution_count": 3,
   "id": "fd8b913b",
   "metadata": {},
   "outputs": [
    {
     "name": "stdout",
     "output_type": "stream",
     "text": [
      "(10000, 10) (10000,)\n"
     ]
    }
   ],
   "source": [
    "# Seperate Dataframe into features and response\n",
    "X, y = df.loc[:,df.columns != 'Exited'], df.Exited\n",
    "print(X.shape, y.shape)"
   ]
  },
  {
   "cell_type": "code",
   "execution_count": 4,
   "id": "512bd896",
   "metadata": {},
   "outputs": [
    {
     "data": {
      "text/plain": [
       "['CreditScore',\n",
       " 'Age',\n",
       " 'Tenure',\n",
       " 'Balance',\n",
       " 'NumOfProducts',\n",
       " 'HasCrCard',\n",
       " 'IsActiveMember',\n",
       " 'EstimatedSalary']"
      ]
     },
     "execution_count": 4,
     "metadata": {},
     "output_type": "execute_result"
    }
   ],
   "source": [
    "# List numerical features\n",
    "num_columns = X.select_dtypes(include='number').columns.tolist()\n",
    "num_columns"
   ]
  },
  {
   "cell_type": "code",
   "execution_count": 5,
   "id": "208cd6d0",
   "metadata": {},
   "outputs": [
    {
     "data": {
      "text/plain": [
       "['Geography', 'Gender']"
      ]
     },
     "execution_count": 5,
     "metadata": {},
     "output_type": "execute_result"
    }
   ],
   "source": [
    "# List categorical features\n",
    "cat_columns = X.select_dtypes(include='object').columns.tolist()\n",
    "cat_columns"
   ]
  },
  {
   "cell_type": "code",
   "execution_count": 6,
   "id": "569f70fe",
   "metadata": {},
   "outputs": [
    {
     "data": {
      "text/html": [
       "<div>\n",
       "<style scoped>\n",
       "    .dataframe tbody tr th:only-of-type {\n",
       "        vertical-align: middle;\n",
       "    }\n",
       "\n",
       "    .dataframe tbody tr th {\n",
       "        vertical-align: top;\n",
       "    }\n",
       "\n",
       "    .dataframe thead th {\n",
       "        text-align: right;\n",
       "    }\n",
       "</style>\n",
       "<table border=\"1\" class=\"dataframe\">\n",
       "  <thead>\n",
       "    <tr style=\"text-align: right;\">\n",
       "      <th></th>\n",
       "      <th>CreditScore</th>\n",
       "      <th>Geography</th>\n",
       "      <th>Gender</th>\n",
       "      <th>Age</th>\n",
       "      <th>Tenure</th>\n",
       "      <th>Balance</th>\n",
       "      <th>NumOfProducts</th>\n",
       "      <th>HasCrCard</th>\n",
       "      <th>IsActiveMember</th>\n",
       "      <th>EstimatedSalary</th>\n",
       "    </tr>\n",
       "  </thead>\n",
       "  <tbody>\n",
       "    <tr>\n",
       "      <th>2228</th>\n",
       "      <td>644</td>\n",
       "      <td>France</td>\n",
       "      <td>Female</td>\n",
       "      <td>37</td>\n",
       "      <td>8</td>\n",
       "      <td>0.00</td>\n",
       "      <td>2</td>\n",
       "      <td>1</td>\n",
       "      <td>0</td>\n",
       "      <td>20968.88</td>\n",
       "    </tr>\n",
       "    <tr>\n",
       "      <th>5910</th>\n",
       "      <td>481</td>\n",
       "      <td>France</td>\n",
       "      <td>Female</td>\n",
       "      <td>39</td>\n",
       "      <td>6</td>\n",
       "      <td>0.00</td>\n",
       "      <td>1</td>\n",
       "      <td>1</td>\n",
       "      <td>1</td>\n",
       "      <td>24677.54</td>\n",
       "    </tr>\n",
       "    <tr>\n",
       "      <th>1950</th>\n",
       "      <td>680</td>\n",
       "      <td>France</td>\n",
       "      <td>Female</td>\n",
       "      <td>37</td>\n",
       "      <td>10</td>\n",
       "      <td>123806.28</td>\n",
       "      <td>1</td>\n",
       "      <td>1</td>\n",
       "      <td>0</td>\n",
       "      <td>81776.84</td>\n",
       "    </tr>\n",
       "    <tr>\n",
       "      <th>2119</th>\n",
       "      <td>690</td>\n",
       "      <td>France</td>\n",
       "      <td>Male</td>\n",
       "      <td>29</td>\n",
       "      <td>5</td>\n",
       "      <td>0.00</td>\n",
       "      <td>2</td>\n",
       "      <td>1</td>\n",
       "      <td>0</td>\n",
       "      <td>108577.97</td>\n",
       "    </tr>\n",
       "    <tr>\n",
       "      <th>5947</th>\n",
       "      <td>656</td>\n",
       "      <td>France</td>\n",
       "      <td>Female</td>\n",
       "      <td>45</td>\n",
       "      <td>7</td>\n",
       "      <td>145933.27</td>\n",
       "      <td>1</td>\n",
       "      <td>1</td>\n",
       "      <td>1</td>\n",
       "      <td>199392.14</td>\n",
       "    </tr>\n",
       "  </tbody>\n",
       "</table>\n",
       "</div>"
      ],
      "text/plain": [
       "      CreditScore Geography  Gender  Age  Tenure    Balance  NumOfProducts  \\\n",
       "2228          644    France  Female   37       8       0.00              2   \n",
       "5910          481    France  Female   39       6       0.00              1   \n",
       "1950          680    France  Female   37      10  123806.28              1   \n",
       "2119          690    France    Male   29       5       0.00              2   \n",
       "5947          656    France  Female   45       7  145933.27              1   \n",
       "\n",
       "      HasCrCard  IsActiveMember  EstimatedSalary  \n",
       "2228          1               0         20968.88  \n",
       "5910          1               1         24677.54  \n",
       "1950          1               0         81776.84  \n",
       "2119          1               0        108577.97  \n",
       "5947          1               1        199392.14  "
      ]
     },
     "execution_count": 6,
     "metadata": {},
     "output_type": "execute_result"
    }
   ],
   "source": [
    "X_train, X_test, y_train, y_test = train_test_split(X, y, train_size =0.7, random_state = 1)\n",
    "X_train.head()"
   ]
  },
  {
   "cell_type": "code",
   "execution_count": 7,
   "id": "e8491597",
   "metadata": {},
   "outputs": [
    {
     "name": "stdout",
     "output_type": "stream",
     "text": [
      "[0, 3, 4, 5, 6, 7, 8, 9]\n",
      "[1, 2]\n"
     ]
    },
    {
     "data": {
      "text/plain": [
       "ColumnTransformer(transformers=[('minmaxscaler', MinMaxScaler(),\n",
       "                                 [0, 3, 4, 5, 6, 7, 8, 9]),\n",
       "                                ('onehotencoder', OneHotEncoder(sparse=False),\n",
       "                                 [1, 2])])"
      ]
     },
     "execution_count": 7,
     "metadata": {},
     "output_type": "execute_result"
    }
   ],
   "source": [
    "num_features = [] \n",
    "\n",
    "for i in num_columns:\n",
    "    location = X.columns.get_loc(i)\n",
    "    num_features.append(location)\n",
    "print(num_features)  \n",
    "\n",
    "cat_features = []\n",
    "\n",
    "for i in cat_columns:\n",
    "    location = X.columns.get_loc(i)\n",
    "    cat_features.append(location)\n",
    "print(cat_features) \n",
    "preprocess = make_column_transformer(\n",
    "    (MinMaxScaler(), num_features),\n",
    "    (OneHotEncoder(sparse=False), cat_features)\n",
    ")\n",
    "preprocess"
   ]
  },
  {
   "cell_type": "code",
   "execution_count": 8,
   "id": "e1126c06",
   "metadata": {},
   "outputs": [
    {
     "data": {
      "text/plain": [
       "Pipeline(steps=[('columntransformer',\n",
       "                 ColumnTransformer(transformers=[('minmaxscaler',\n",
       "                                                  MinMaxScaler(),\n",
       "                                                  [0, 3, 4, 5, 6, 7, 8, 9]),\n",
       "                                                 ('onehotencoder',\n",
       "                                                  OneHotEncoder(sparse=False),\n",
       "                                                  [1, 2])])),\n",
       "                ('svc', SVC())])"
      ]
     },
     "execution_count": 8,
     "metadata": {},
     "output_type": "execute_result"
    }
   ],
   "source": [
    "# without SMOTE\n",
    "model = make_pipeline(preprocess, SVC())\n",
    "model"
   ]
  },
  {
   "cell_type": "code",
   "execution_count": 9,
   "id": "030b5a53",
   "metadata": {},
   "outputs": [],
   "source": [
    "param_grid = {'svc__kernel' : ['linear', 'rbf', 'poly', 'sigmoid'],\n",
    "              'svc__C': [0.0005,0.001, 0.01, 0.1, 0.5],\n",
    "              'svc__gamma': [5, 1, 0.1, 0.01]}"
   ]
  },
  {
   "cell_type": "code",
   "execution_count": 10,
   "id": "6454e3b6",
   "metadata": {},
   "outputs": [
    {
     "data": {
      "text/plain": [
       "GridSearchCV(cv=10,\n",
       "             estimator=Pipeline(steps=[('columntransformer',\n",
       "                                        ColumnTransformer(transformers=[('minmaxscaler',\n",
       "                                                                         MinMaxScaler(),\n",
       "                                                                         [0, 3,\n",
       "                                                                          4, 5,\n",
       "                                                                          6, 7,\n",
       "                                                                          8,\n",
       "                                                                          9]),\n",
       "                                                                        ('onehotencoder',\n",
       "                                                                         OneHotEncoder(sparse=False),\n",
       "                                                                         [1,\n",
       "                                                                          2])])),\n",
       "                                       ('svc', SVC())]),\n",
       "             param_grid={'svc__C': [0.0005, 0.001, 0.01, 0.1, 0.5],\n",
       "                         'svc__gamma': [5, 1, 0.1, 0.01],\n",
       "                         'svc__kernel': ['linear', 'rbf', 'poly', 'sigmoid']},\n",
       "             scoring='accuracy')"
      ]
     },
     "execution_count": 10,
     "metadata": {},
     "output_type": "execute_result"
    }
   ],
   "source": [
    "svm_grid = GridSearchCV(model, param_grid, cv= 10, scoring='accuracy')\n",
    "svm_grid.fit(X_train, y_train)"
   ]
  },
  {
   "cell_type": "code",
   "execution_count": 11,
   "id": "9a1e7710",
   "metadata": {},
   "outputs": [
    {
     "name": "stdout",
     "output_type": "stream",
     "text": [
      "{'svc__C': 0.5, 'svc__gamma': 5, 'svc__kernel': 'poly'}\n",
      "0.8614285714285714\n"
     ]
    }
   ],
   "source": [
    "print(svm_grid.best_params_)\n",
    "print(svm_grid.best_score_)"
   ]
  },
  {
   "cell_type": "code",
   "execution_count": 12,
   "id": "ae9c9ecd",
   "metadata": {},
   "outputs": [
    {
     "name": "stdout",
     "output_type": "stream",
     "text": [
      "Training Data Score: 0.8767142857142857\n",
      "Testing Data Score: 0.8583333333333333\n"
     ]
    }
   ],
   "source": [
    "print(f\"Training Data Score: {svm_grid.score(X_train, y_train)}\")\n",
    "print(f\"Testing Data Score: {svm_grid.score(X_test, y_test)}\")"
   ]
  },
  {
   "cell_type": "code",
   "execution_count": 13,
   "id": "cb8eea10",
   "metadata": {},
   "outputs": [
    {
     "name": "stdout",
     "output_type": "stream",
     "text": [
      "[[2275   98]\n",
      " [ 327  300]]\n",
      "              precision    recall  f1-score   support\n",
      "\n",
      "           0       0.87      0.96      0.91      2373\n",
      "           1       0.75      0.48      0.59       627\n",
      "\n",
      "    accuracy                           0.86      3000\n",
      "   macro avg       0.81      0.72      0.75      3000\n",
      "weighted avg       0.85      0.86      0.85      3000\n",
      "\n"
     ]
    }
   ],
   "source": [
    "predictions = svm_grid.predict(X_test)\n",
    "cm = confusion_matrix(y_test, predictions)\n",
    "print(cm)\n",
    "print(classification_report(y_test, predictions))"
   ]
  },
  {
   "cell_type": "code",
   "execution_count": 14,
   "id": "59ff4acf",
   "metadata": {},
   "outputs": [
    {
     "data": {
      "text/plain": [
       "Pipeline(steps=[('columntransformer',\n",
       "                 ColumnTransformer(transformers=[('minmaxscaler',\n",
       "                                                  MinMaxScaler(),\n",
       "                                                  [0, 3, 4, 5, 6, 7, 8, 9]),\n",
       "                                                 ('onehotencoder',\n",
       "                                                  OneHotEncoder(sparse=False),\n",
       "                                                  [1, 2])])),\n",
       "                ('smote', SMOTE(random_state=1)),\n",
       "                ('svc', SVC(random_state=1))])"
      ]
     },
     "execution_count": 14,
     "metadata": {},
     "output_type": "execute_result"
    }
   ],
   "source": [
    "# with SMOTE\n",
    "model2 = imbl_pipe(preprocess,\n",
    "                  SMOTE(sampling_strategy='auto', random_state= 1),\n",
    "                  SVC(random_state= 1))\n",
    "model2"
   ]
  },
  {
   "cell_type": "code",
   "execution_count": 15,
   "id": "1ccfff30",
   "metadata": {},
   "outputs": [],
   "source": [
    "#svm_grid = GridSearchCV(model2, param_grid, cv= 10, scoring='accuracy')\n",
    "#svm_grid.fit(X_train, y_train)"
   ]
  },
  {
   "cell_type": "code",
   "execution_count": 16,
   "id": "15830255",
   "metadata": {},
   "outputs": [],
   "source": [
    "#print(svm_grid.best_params_)\n",
    "#print(svm_grid.best_score_)"
   ]
  },
  {
   "cell_type": "code",
   "execution_count": 17,
   "id": "b22d127a",
   "metadata": {},
   "outputs": [],
   "source": [
    "#print(f\"Training Data Score: {svm_grid.score(X_train, y_train)}\")\n",
    "#print(f\"Testing Data Score: {svm_grid.score(X_test, y_test)}\")"
   ]
  },
  {
   "cell_type": "code",
   "execution_count": 18,
   "id": "8a675285",
   "metadata": {},
   "outputs": [],
   "source": [
    "#p#redictions = svm_grid.predict(X_test)\n",
    "#cm = confusion_matrix(y_test, predictions)\n",
    "#print(cm)\n",
    "#print(classification_report(y_test, predictions))"
   ]
  },
  {
   "cell_type": "code",
   "execution_count": 19,
   "id": "6576b9ca",
   "metadata": {},
   "outputs": [
    {
     "data": {
      "text/plain": [
       "Pipeline(steps=[('columntransformer',\n",
       "                 ColumnTransformer(transformers=[('minmaxscaler',\n",
       "                                                  MinMaxScaler(),\n",
       "                                                  [0, 3, 4, 5, 6, 7, 8, 9]),\n",
       "                                                 ('onehotencoder',\n",
       "                                                  OneHotEncoder(sparse=False),\n",
       "                                                  [1, 2])])),\n",
       "                ('smote', SMOTE(random_state=1)),\n",
       "                ('svc', SVC(random_state=1))])"
      ]
     },
     "execution_count": 19,
     "metadata": {},
     "output_type": "execute_result"
    }
   ],
   "source": [
    "model2 = imbl_pipe(preprocess,\n",
    "                  SMOTE(sampling_strategy='auto', random_state=1),\n",
    "                  SVC(random_state=1))\n",
    "\n",
    "model2"
   ]
  },
  {
   "cell_type": "code",
   "execution_count": 20,
   "id": "fbc06ff6",
   "metadata": {},
   "outputs": [],
   "source": [
    "grid_s = GridSearchCV(model2, param_grid, verbose=3, cv= 10)"
   ]
  },
  {
   "cell_type": "code",
   "execution_count": null,
   "id": "78bfcacd",
   "metadata": {},
   "outputs": [
    {
     "name": "stdout",
     "output_type": "stream",
     "text": [
      "Fitting 10 folds for each of 80 candidates, totalling 800 fits\n",
      "[CV 1/10] END svc__C=0.0005, svc__gamma=5, svc__kernel=linear;, score=0.677 total time=   4.4s\n",
      "[CV 2/10] END svc__C=0.0005, svc__gamma=5, svc__kernel=linear;, score=0.687 total time=   4.3s\n",
      "[CV 3/10] END svc__C=0.0005, svc__gamma=5, svc__kernel=linear;, score=0.681 total time=   4.5s\n",
      "[CV 4/10] END svc__C=0.0005, svc__gamma=5, svc__kernel=linear;, score=0.683 total time=   4.5s\n",
      "[CV 5/10] END svc__C=0.0005, svc__gamma=5, svc__kernel=linear;, score=0.651 total time=   4.4s\n",
      "[CV 6/10] END svc__C=0.0005, svc__gamma=5, svc__kernel=linear;, score=0.663 total time=   4.4s\n",
      "[CV 7/10] END svc__C=0.0005, svc__gamma=5, svc__kernel=linear;, score=0.679 total time=   4.4s\n",
      "[CV 8/10] END svc__C=0.0005, svc__gamma=5, svc__kernel=linear;, score=0.680 total time=   4.5s\n",
      "[CV 9/10] END svc__C=0.0005, svc__gamma=5, svc__kernel=linear;, score=0.670 total time=   4.5s\n",
      "[CV 10/10] END svc__C=0.0005, svc__gamma=5, svc__kernel=linear;, score=0.690 total time=   4.5s\n",
      "[CV 1/10] END svc__C=0.0005, svc__gamma=5, svc__kernel=rbf;, score=0.649 total time=   7.3s\n",
      "[CV 2/10] END svc__C=0.0005, svc__gamma=5, svc__kernel=rbf;, score=0.660 total time=   7.2s\n",
      "[CV 3/10] END svc__C=0.0005, svc__gamma=5, svc__kernel=rbf;, score=0.731 total time=   7.2s\n",
      "[CV 4/10] END svc__C=0.0005, svc__gamma=5, svc__kernel=rbf;, score=0.710 total time=   7.2s\n",
      "[CV 5/10] END svc__C=0.0005, svc__gamma=5, svc__kernel=rbf;, score=0.714 total time=   7.2s\n",
      "[CV 6/10] END svc__C=0.0005, svc__gamma=5, svc__kernel=rbf;, score=0.700 total time=   7.3s\n",
      "[CV 7/10] END svc__C=0.0005, svc__gamma=5, svc__kernel=rbf;, score=0.749 total time=   7.3s\n",
      "[CV 8/10] END svc__C=0.0005, svc__gamma=5, svc__kernel=rbf;, score=0.697 total time=   7.2s\n",
      "[CV 9/10] END svc__C=0.0005, svc__gamma=5, svc__kernel=rbf;, score=0.709 total time=   7.3s\n",
      "[CV 10/10] END svc__C=0.0005, svc__gamma=5, svc__kernel=rbf;, score=0.744 total time=   7.2s\n",
      "[CV 1/10] END svc__C=0.0005, svc__gamma=5, svc__kernel=poly;, score=0.760 total time=   3.8s\n",
      "[CV 2/10] END svc__C=0.0005, svc__gamma=5, svc__kernel=poly;, score=0.783 total time=   3.9s\n",
      "[CV 3/10] END svc__C=0.0005, svc__gamma=5, svc__kernel=poly;, score=0.796 total time=   3.8s\n",
      "[CV 4/10] END svc__C=0.0005, svc__gamma=5, svc__kernel=poly;, score=0.779 total time=   3.8s\n",
      "[CV 5/10] END svc__C=0.0005, svc__gamma=5, svc__kernel=poly;, score=0.780 total time=   3.8s\n",
      "[CV 6/10] END svc__C=0.0005, svc__gamma=5, svc__kernel=poly;, score=0.784 total time=   3.7s\n",
      "[CV 7/10] END svc__C=0.0005, svc__gamma=5, svc__kernel=poly;, score=0.763 total time=   3.9s\n",
      "[CV 8/10] END svc__C=0.0005, svc__gamma=5, svc__kernel=poly;, score=0.766 total time=   3.8s\n",
      "[CV 9/10] END svc__C=0.0005, svc__gamma=5, svc__kernel=poly;, score=0.783 total time=   3.9s\n",
      "[CV 10/10] END svc__C=0.0005, svc__gamma=5, svc__kernel=poly;, score=0.783 total time=   3.8s\n",
      "[CV 1/10] END svc__C=0.0005, svc__gamma=5, svc__kernel=sigmoid;, score=0.201 total time=   8.8s\n",
      "[CV 2/10] END svc__C=0.0005, svc__gamma=5, svc__kernel=sigmoid;, score=0.201 total time=   8.8s\n",
      "[CV 3/10] END svc__C=0.0005, svc__gamma=5, svc__kernel=sigmoid;, score=0.201 total time=   8.6s\n",
      "[CV 4/10] END svc__C=0.0005, svc__gamma=5, svc__kernel=sigmoid;, score=0.201 total time=   8.7s\n",
      "[CV 5/10] END svc__C=0.0005, svc__gamma=5, svc__kernel=sigmoid;, score=0.201 total time=   8.7s\n",
      "[CV 6/10] END svc__C=0.0005, svc__gamma=5, svc__kernel=sigmoid;, score=0.201 total time=   8.8s\n",
      "[CV 7/10] END svc__C=0.0005, svc__gamma=5, svc__kernel=sigmoid;, score=0.201 total time=   8.8s\n",
      "[CV 8/10] END svc__C=0.0005, svc__gamma=5, svc__kernel=sigmoid;, score=0.201 total time=   8.7s\n",
      "[CV 9/10] END svc__C=0.0005, svc__gamma=5, svc__kernel=sigmoid;, score=0.796 total time=   8.7s\n",
      "[CV 10/10] END svc__C=0.0005, svc__gamma=5, svc__kernel=sigmoid;, score=0.201 total time=   8.8s\n",
      "[CV 1/10] END svc__C=0.0005, svc__gamma=1, svc__kernel=linear;, score=0.677 total time=   4.5s\n",
      "[CV 2/10] END svc__C=0.0005, svc__gamma=1, svc__kernel=linear;, score=0.687 total time=   4.6s\n",
      "[CV 3/10] END svc__C=0.0005, svc__gamma=1, svc__kernel=linear;, score=0.681 total time=   4.6s\n",
      "[CV 4/10] END svc__C=0.0005, svc__gamma=1, svc__kernel=linear;, score=0.683 total time=   4.4s\n",
      "[CV 5/10] END svc__C=0.0005, svc__gamma=1, svc__kernel=linear;, score=0.651 total time=   4.5s\n",
      "[CV 6/10] END svc__C=0.0005, svc__gamma=1, svc__kernel=linear;, score=0.663 total time=   4.5s\n",
      "[CV 7/10] END svc__C=0.0005, svc__gamma=1, svc__kernel=linear;, score=0.679 total time=   4.5s\n",
      "[CV 8/10] END svc__C=0.0005, svc__gamma=1, svc__kernel=linear;, score=0.680 total time=   4.5s\n",
      "[CV 9/10] END svc__C=0.0005, svc__gamma=1, svc__kernel=linear;, score=0.670 total time=   4.6s\n",
      "[CV 10/10] END svc__C=0.0005, svc__gamma=1, svc__kernel=linear;, score=0.690 total time=   4.5s\n",
      "[CV 1/10] END svc__C=0.0005, svc__gamma=1, svc__kernel=rbf;, score=0.621 total time=   7.3s\n",
      "[CV 2/10] END svc__C=0.0005, svc__gamma=1, svc__kernel=rbf;, score=0.631 total time=   7.3s\n",
      "[CV 3/10] END svc__C=0.0005, svc__gamma=1, svc__kernel=rbf;, score=0.646 total time=   7.4s\n",
      "[CV 4/10] END svc__C=0.0005, svc__gamma=1, svc__kernel=rbf;, score=0.643 total time=   7.3s\n",
      "[CV 5/10] END svc__C=0.0005, svc__gamma=1, svc__kernel=rbf;, score=0.614 total time=   7.3s\n",
      "[CV 6/10] END svc__C=0.0005, svc__gamma=1, svc__kernel=rbf;, score=0.644 total time=   7.2s\n",
      "[CV 7/10] END svc__C=0.0005, svc__gamma=1, svc__kernel=rbf;, score=0.656 total time=   7.3s\n",
      "[CV 8/10] END svc__C=0.0005, svc__gamma=1, svc__kernel=rbf;, score=0.660 total time=   7.4s\n",
      "[CV 9/10] END svc__C=0.0005, svc__gamma=1, svc__kernel=rbf;, score=0.663 total time=   7.2s\n",
      "[CV 10/10] END svc__C=0.0005, svc__gamma=1, svc__kernel=rbf;, score=0.660 total time=   7.4s\n",
      "[CV 1/10] END svc__C=0.0005, svc__gamma=1, svc__kernel=poly;, score=0.621 total time=   4.5s\n",
      "[CV 2/10] END svc__C=0.0005, svc__gamma=1, svc__kernel=poly;, score=0.650 total time=   4.3s\n",
      "[CV 3/10] END svc__C=0.0005, svc__gamma=1, svc__kernel=poly;, score=0.674 total time=   4.3s\n",
      "[CV 4/10] END svc__C=0.0005, svc__gamma=1, svc__kernel=poly;, score=0.649 total time=   4.5s\n",
      "[CV 5/10] END svc__C=0.0005, svc__gamma=1, svc__kernel=poly;, score=0.606 total time=   4.4s\n",
      "[CV 6/10] END svc__C=0.0005, svc__gamma=1, svc__kernel=poly;, score=0.629 total time=   4.4s\n",
      "[CV 7/10] END svc__C=0.0005, svc__gamma=1, svc__kernel=poly;, score=0.653 total time=   4.4s\n",
      "[CV 8/10] END svc__C=0.0005, svc__gamma=1, svc__kernel=poly;, score=0.634 total time=   4.4s\n",
      "[CV 9/10] END svc__C=0.0005, svc__gamma=1, svc__kernel=poly;, score=0.674 total time=   4.4s\n",
      "[CV 10/10] END svc__C=0.0005, svc__gamma=1, svc__kernel=poly;, score=0.670 total time=   4.3s\n",
      "[CV 1/10] END svc__C=0.0005, svc__gamma=1, svc__kernel=sigmoid;, score=0.576 total time=   8.8s\n",
      "[CV 2/10] END svc__C=0.0005, svc__gamma=1, svc__kernel=sigmoid;, score=0.671 total time=   8.9s\n",
      "[CV 3/10] END svc__C=0.0005, svc__gamma=1, svc__kernel=sigmoid;, score=0.669 total time=   8.8s\n",
      "[CV 4/10] END svc__C=0.0005, svc__gamma=1, svc__kernel=sigmoid;, score=0.584 total time=   8.8s\n",
      "[CV 5/10] END svc__C=0.0005, svc__gamma=1, svc__kernel=sigmoid;, score=0.550 total time=   8.9s\n",
      "[CV 6/10] END svc__C=0.0005, svc__gamma=1, svc__kernel=sigmoid;, score=0.410 total time=   8.7s\n",
      "[CV 7/10] END svc__C=0.0005, svc__gamma=1, svc__kernel=sigmoid;, score=0.540 total time=   8.9s\n",
      "[CV 8/10] END svc__C=0.0005, svc__gamma=1, svc__kernel=sigmoid;, score=0.487 total time=   8.8s\n",
      "[CV 9/10] END svc__C=0.0005, svc__gamma=1, svc__kernel=sigmoid;, score=0.779 total time=   8.8s\n",
      "[CV 10/10] END svc__C=0.0005, svc__gamma=1, svc__kernel=sigmoid;, score=0.514 total time=   8.8s\n",
      "[CV 1/10] END svc__C=0.0005, svc__gamma=0.1, svc__kernel=linear;, score=0.677 total time=   4.6s\n",
      "[CV 2/10] END svc__C=0.0005, svc__gamma=0.1, svc__kernel=linear;, score=0.687 total time=   4.6s\n",
      "[CV 3/10] END svc__C=0.0005, svc__gamma=0.1, svc__kernel=linear;, score=0.681 total time=   4.6s\n",
      "[CV 4/10] END svc__C=0.0005, svc__gamma=0.1, svc__kernel=linear;, score=0.683 total time=   4.5s\n",
      "[CV 5/10] END svc__C=0.0005, svc__gamma=0.1, svc__kernel=linear;, score=0.651 total time=   4.5s\n",
      "[CV 6/10] END svc__C=0.0005, svc__gamma=0.1, svc__kernel=linear;, score=0.663 total time=   4.6s\n",
      "[CV 7/10] END svc__C=0.0005, svc__gamma=0.1, svc__kernel=linear;, score=0.679 total time=   4.5s\n"
     ]
    },
    {
     "name": "stdout",
     "output_type": "stream",
     "text": [
      "[CV 8/10] END svc__C=0.0005, svc__gamma=0.1, svc__kernel=linear;, score=0.680 total time=   4.5s\n",
      "[CV 9/10] END svc__C=0.0005, svc__gamma=0.1, svc__kernel=linear;, score=0.670 total time=   4.6s\n",
      "[CV 10/10] END svc__C=0.0005, svc__gamma=0.1, svc__kernel=linear;, score=0.690 total time=   4.5s\n",
      "[CV 1/10] END svc__C=0.0005, svc__gamma=0.1, svc__kernel=rbf;, score=0.677 total time=   7.3s\n",
      "[CV 2/10] END svc__C=0.0005, svc__gamma=0.1, svc__kernel=rbf;, score=0.680 total time=   7.3s\n",
      "[CV 3/10] END svc__C=0.0005, svc__gamma=0.1, svc__kernel=rbf;, score=0.681 total time=   7.4s\n",
      "[CV 4/10] END svc__C=0.0005, svc__gamma=0.1, svc__kernel=rbf;, score=0.683 total time=   7.4s\n",
      "[CV 5/10] END svc__C=0.0005, svc__gamma=0.1, svc__kernel=rbf;, score=0.651 total time=   7.3s\n",
      "[CV 6/10] END svc__C=0.0005, svc__gamma=0.1, svc__kernel=rbf;, score=0.661 total time=   7.3s\n",
      "[CV 7/10] END svc__C=0.0005, svc__gamma=0.1, svc__kernel=rbf;, score=0.676 total time=   7.4s\n",
      "[CV 8/10] END svc__C=0.0005, svc__gamma=0.1, svc__kernel=rbf;, score=0.679 total time=   7.3s\n",
      "[CV 9/10] END svc__C=0.0005, svc__gamma=0.1, svc__kernel=rbf;, score=0.670 total time=   7.4s\n",
      "[CV 10/10] END svc__C=0.0005, svc__gamma=0.1, svc__kernel=rbf;, score=0.687 total time=   7.4s\n",
      "[CV 1/10] END svc__C=0.0005, svc__gamma=0.1, svc__kernel=poly;, score=0.497 total time=   5.1s\n",
      "[CV 2/10] END svc__C=0.0005, svc__gamma=0.1, svc__kernel=poly;, score=0.531 total time=   5.2s\n",
      "[CV 3/10] END svc__C=0.0005, svc__gamma=0.1, svc__kernel=poly;, score=0.511 total time=   5.1s\n",
      "[CV 4/10] END svc__C=0.0005, svc__gamma=0.1, svc__kernel=poly;, score=0.554 total time=   5.1s\n",
      "[CV 5/10] END svc__C=0.0005, svc__gamma=0.1, svc__kernel=poly;, score=0.531 total time=   5.1s\n",
      "[CV 6/10] END svc__C=0.0005, svc__gamma=0.1, svc__kernel=poly;, score=0.520 total time=   5.1s\n",
      "[CV 7/10] END svc__C=0.0005, svc__gamma=0.1, svc__kernel=poly;, score=0.530 total time=   5.1s\n",
      "[CV 8/10] END svc__C=0.0005, svc__gamma=0.1, svc__kernel=poly;, score=0.520 total time=   5.2s\n",
      "[CV 9/10] END svc__C=0.0005, svc__gamma=0.1, svc__kernel=poly;, score=0.504 total time=   5.1s\n",
      "[CV 10/10] END svc__C=0.0005, svc__gamma=0.1, svc__kernel=poly;, score=0.537 total time=   5.2s\n",
      "[CV 1/10] END svc__C=0.0005, svc__gamma=0.1, svc__kernel=sigmoid;, score=0.674 total time=   6.3s\n",
      "[CV 2/10] END svc__C=0.0005, svc__gamma=0.1, svc__kernel=sigmoid;, score=0.687 total time=   6.4s\n",
      "[CV 3/10] END svc__C=0.0005, svc__gamma=0.1, svc__kernel=sigmoid;, score=0.683 total time=   6.4s\n",
      "[CV 4/10] END svc__C=0.0005, svc__gamma=0.1, svc__kernel=sigmoid;, score=0.681 total time=   6.3s\n",
      "[CV 5/10] END svc__C=0.0005, svc__gamma=0.1, svc__kernel=sigmoid;, score=0.653 total time=   6.3s\n",
      "[CV 6/10] END svc__C=0.0005, svc__gamma=0.1, svc__kernel=sigmoid;, score=0.663 total time=   6.3s\n",
      "[CV 7/10] END svc__C=0.0005, svc__gamma=0.1, svc__kernel=sigmoid;, score=0.673 total time=   6.3s\n",
      "[CV 8/10] END svc__C=0.0005, svc__gamma=0.1, svc__kernel=sigmoid;, score=0.680 total time=   6.3s\n",
      "[CV 9/10] END svc__C=0.0005, svc__gamma=0.1, svc__kernel=sigmoid;, score=0.670 total time=   6.4s\n",
      "[CV 10/10] END svc__C=0.0005, svc__gamma=0.1, svc__kernel=sigmoid;, score=0.689 total time=   6.3s\n",
      "[CV 1/10] END svc__C=0.0005, svc__gamma=0.01, svc__kernel=linear;, score=0.677 total time=   5.4s\n",
      "[CV 2/10] END svc__C=0.0005, svc__gamma=0.01, svc__kernel=linear;, score=0.687 total time=   5.6s\n",
      "[CV 3/10] END svc__C=0.0005, svc__gamma=0.01, svc__kernel=linear;, score=0.681 total time=   4.9s\n",
      "[CV 4/10] END svc__C=0.0005, svc__gamma=0.01, svc__kernel=linear;, score=0.683 total time=   4.7s\n",
      "[CV 5/10] END svc__C=0.0005, svc__gamma=0.01, svc__kernel=linear;, score=0.651 total time=   4.6s\n",
      "[CV 6/10] END svc__C=0.0005, svc__gamma=0.01, svc__kernel=linear;, score=0.663 total time=   4.6s\n",
      "[CV 7/10] END svc__C=0.0005, svc__gamma=0.01, svc__kernel=linear;, score=0.679 total time=   4.4s\n",
      "[CV 8/10] END svc__C=0.0005, svc__gamma=0.01, svc__kernel=linear;, score=0.680 total time=   5.3s\n",
      "[CV 9/10] END svc__C=0.0005, svc__gamma=0.01, svc__kernel=linear;, score=0.670 total time=   4.6s\n",
      "[CV 10/10] END svc__C=0.0005, svc__gamma=0.01, svc__kernel=linear;, score=0.690 total time=   4.5s\n",
      "[CV 1/10] END svc__C=0.0005, svc__gamma=0.01, svc__kernel=rbf;, score=0.674 total time=   7.4s\n",
      "[CV 2/10] END svc__C=0.0005, svc__gamma=0.01, svc__kernel=rbf;, score=0.687 total time=   8.1s\n",
      "[CV 3/10] END svc__C=0.0005, svc__gamma=0.01, svc__kernel=rbf;, score=0.681 total time=   7.4s\n",
      "[CV 4/10] END svc__C=0.0005, svc__gamma=0.01, svc__kernel=rbf;, score=0.681 total time=   7.3s\n",
      "[CV 5/10] END svc__C=0.0005, svc__gamma=0.01, svc__kernel=rbf;, score=0.651 total time=   7.6s\n",
      "[CV 6/10] END svc__C=0.0005, svc__gamma=0.01, svc__kernel=rbf;, score=0.663 total time=   7.2s\n",
      "[CV 7/10] END svc__C=0.0005, svc__gamma=0.01, svc__kernel=rbf;, score=0.673 total time=   7.1s\n",
      "[CV 8/10] END svc__C=0.0005, svc__gamma=0.01, svc__kernel=rbf;, score=0.679 total time=   7.1s\n",
      "[CV 9/10] END svc__C=0.0005, svc__gamma=0.01, svc__kernel=rbf;, score=0.671 total time=   7.0s\n",
      "[CV 10/10] END svc__C=0.0005, svc__gamma=0.01, svc__kernel=rbf;, score=0.687 total time=   6.9s\n",
      "[CV 1/10] END svc__C=0.0005, svc__gamma=0.01, svc__kernel=poly;, score=0.497 total time=   4.8s\n",
      "[CV 2/10] END svc__C=0.0005, svc__gamma=0.01, svc__kernel=poly;, score=0.531 total time=   4.8s\n",
      "[CV 3/10] END svc__C=0.0005, svc__gamma=0.01, svc__kernel=poly;, score=0.511 total time=   4.7s\n",
      "[CV 4/10] END svc__C=0.0005, svc__gamma=0.01, svc__kernel=poly;, score=0.554 total time=   4.7s\n",
      "[CV 5/10] END svc__C=0.0005, svc__gamma=0.01, svc__kernel=poly;, score=0.531 total time=   4.7s\n",
      "[CV 6/10] END svc__C=0.0005, svc__gamma=0.01, svc__kernel=poly;, score=0.520 total time=   5.0s\n",
      "[CV 7/10] END svc__C=0.0005, svc__gamma=0.01, svc__kernel=poly;, score=0.530 total time=   5.2s\n",
      "[CV 8/10] END svc__C=0.0005, svc__gamma=0.01, svc__kernel=poly;, score=0.520 total time=   5.0s\n",
      "[CV 9/10] END svc__C=0.0005, svc__gamma=0.01, svc__kernel=poly;, score=0.504 total time=   4.9s\n",
      "[CV 10/10] END svc__C=0.0005, svc__gamma=0.01, svc__kernel=poly;, score=0.537 total time=   4.8s\n",
      "[CV 1/10] END svc__C=0.0005, svc__gamma=0.01, svc__kernel=sigmoid;, score=0.674 total time=   6.4s\n"
     ]
    }
   ],
   "source": [
    "grid_s.fit(X_train, y_train)"
   ]
  }
 ],
 "metadata": {
  "kernelspec": {
   "display_name": "project:churn.prediction",
   "language": "python",
   "name": "project_churn.prediction"
  },
  "language_info": {
   "codemirror_mode": {
    "name": "ipython",
    "version": 3
   },
   "file_extension": ".py",
   "mimetype": "text/x-python",
   "name": "python",
   "nbconvert_exporter": "python",
   "pygments_lexer": "ipython3",
   "version": "3.7.13"
  }
 },
 "nbformat": 4,
 "nbformat_minor": 5
}
